{
  "nbformat": 4,
  "nbformat_minor": 0,
  "metadata": {
    "colab": {
      "provenance": [],
      "authorship_tag": "ABX9TyP8AFN8JCc8Qdf92DjgWQDo",
      "include_colab_link": true
    },
    "kernelspec": {
      "name": "python3",
      "display_name": "Python 3"
    },
    "language_info": {
      "name": "python"
    }
  },
  "cells": [
    {
      "cell_type": "markdown",
      "metadata": {
        "id": "view-in-github",
        "colab_type": "text"
      },
      "source": [
        "<a href=\"https://colab.research.google.com/github/quiquefraga/obama_agent/blob/main/ObamaTweetAgent.ipynb\" target=\"_parent\"><img src=\"https://colab.research.google.com/assets/colab-badge.svg\" alt=\"Open In Colab\"/></a>"
      ]
    },
    {
      "cell_type": "code",
      "source": [
        "!pip install openai\n"
      ],
      "metadata": {
        "colab": {
          "base_uri": "https://localhost:8080/"
        },
        "collapsed": true,
        "id": "OfsEEuzK05yi",
        "outputId": "37f0aebf-86c1-4329-fa3e-071622fc5ffe"
      },
      "execution_count": 77,
      "outputs": [
        {
          "output_type": "stream",
          "name": "stdout",
          "text": [
            "Requirement already satisfied: openai in /usr/local/lib/python3.11/dist-packages (1.61.1)\n",
            "Requirement already satisfied: anyio<5,>=3.5.0 in /usr/local/lib/python3.11/dist-packages (from openai) (3.7.1)\n",
            "Requirement already satisfied: distro<2,>=1.7.0 in /usr/local/lib/python3.11/dist-packages (from openai) (1.9.0)\n",
            "Requirement already satisfied: httpx<1,>=0.23.0 in /usr/local/lib/python3.11/dist-packages (from openai) (0.28.1)\n",
            "Requirement already satisfied: jiter<1,>=0.4.0 in /usr/local/lib/python3.11/dist-packages (from openai) (0.8.2)\n",
            "Requirement already satisfied: pydantic<3,>=1.9.0 in /usr/local/lib/python3.11/dist-packages (from openai) (2.10.6)\n",
            "Requirement already satisfied: sniffio in /usr/local/lib/python3.11/dist-packages (from openai) (1.3.1)\n",
            "Requirement already satisfied: tqdm>4 in /usr/local/lib/python3.11/dist-packages (from openai) (4.67.1)\n",
            "Requirement already satisfied: typing-extensions<5,>=4.11 in /usr/local/lib/python3.11/dist-packages (from openai) (4.12.2)\n",
            "Requirement already satisfied: idna>=2.8 in /usr/local/lib/python3.11/dist-packages (from anyio<5,>=3.5.0->openai) (3.10)\n",
            "Requirement already satisfied: certifi in /usr/local/lib/python3.11/dist-packages (from httpx<1,>=0.23.0->openai) (2025.1.31)\n",
            "Requirement already satisfied: httpcore==1.* in /usr/local/lib/python3.11/dist-packages (from httpx<1,>=0.23.0->openai) (1.0.7)\n",
            "Requirement already satisfied: h11<0.15,>=0.13 in /usr/local/lib/python3.11/dist-packages (from httpcore==1.*->httpx<1,>=0.23.0->openai) (0.14.0)\n",
            "Requirement already satisfied: annotated-types>=0.6.0 in /usr/local/lib/python3.11/dist-packages (from pydantic<3,>=1.9.0->openai) (0.7.0)\n",
            "Requirement already satisfied: pydantic-core==2.27.2 in /usr/local/lib/python3.11/dist-packages (from pydantic<3,>=1.9.0->openai) (2.27.2)\n"
          ]
        }
      ]
    },
    {
      "cell_type": "code",
      "source": [
        "!pip install feedparser\n"
      ],
      "metadata": {
        "colab": {
          "base_uri": "https://localhost:8080/"
        },
        "id": "8EGbkIc8vgIw",
        "outputId": "2755941f-9e59-4446-875a-abc82e9ef2f4"
      },
      "execution_count": 78,
      "outputs": [
        {
          "output_type": "stream",
          "name": "stdout",
          "text": [
            "Requirement already satisfied: feedparser in /usr/local/lib/python3.11/dist-packages (6.0.11)\n",
            "Requirement already satisfied: sgmllib3k in /usr/local/lib/python3.11/dist-packages (from feedparser) (1.0.0)\n"
          ]
        }
      ]
    },
    {
      "cell_type": "code",
      "source": [
        "!pip install tiktoken"
      ],
      "metadata": {
        "colab": {
          "base_uri": "https://localhost:8080/"
        },
        "collapsed": true,
        "id": "bWdxL2a4tT5W",
        "outputId": "d34b8b2f-5e31-4b64-d2f4-24cd2c961be2"
      },
      "execution_count": 79,
      "outputs": [
        {
          "output_type": "stream",
          "name": "stdout",
          "text": [
            "Requirement already satisfied: tiktoken in /usr/local/lib/python3.11/dist-packages (0.9.0)\n",
            "Requirement already satisfied: regex>=2022.1.18 in /usr/local/lib/python3.11/dist-packages (from tiktoken) (2024.11.6)\n",
            "Requirement already satisfied: requests>=2.26.0 in /usr/local/lib/python3.11/dist-packages (from tiktoken) (2.32.3)\n",
            "Requirement already satisfied: charset-normalizer<4,>=2 in /usr/local/lib/python3.11/dist-packages (from requests>=2.26.0->tiktoken) (3.4.1)\n",
            "Requirement already satisfied: idna<4,>=2.5 in /usr/local/lib/python3.11/dist-packages (from requests>=2.26.0->tiktoken) (3.10)\n",
            "Requirement already satisfied: urllib3<3,>=1.21.1 in /usr/local/lib/python3.11/dist-packages (from requests>=2.26.0->tiktoken) (2.3.0)\n",
            "Requirement already satisfied: certifi>=2017.4.17 in /usr/local/lib/python3.11/dist-packages (from requests>=2.26.0->tiktoken) (2025.1.31)\n"
          ]
        }
      ]
    },
    {
      "cell_type": "code",
      "source": [
        "!pip install -U langchain-community"
      ],
      "metadata": {
        "colab": {
          "base_uri": "https://localhost:8080/"
        },
        "collapsed": true,
        "id": "NKqRNXVGo8K5",
        "outputId": "fe909a2d-28df-4184-e723-34511a2f5e95"
      },
      "execution_count": 80,
      "outputs": [
        {
          "output_type": "stream",
          "name": "stdout",
          "text": [
            "Requirement already satisfied: langchain-community in /usr/local/lib/python3.11/dist-packages (0.3.19)\n",
            "Requirement already satisfied: langchain-core<1.0.0,>=0.3.41 in /usr/local/lib/python3.11/dist-packages (from langchain-community) (0.3.41)\n",
            "Requirement already satisfied: langchain<1.0.0,>=0.3.20 in /usr/local/lib/python3.11/dist-packages (from langchain-community) (0.3.20)\n",
            "Requirement already satisfied: SQLAlchemy<3,>=1.4 in /usr/local/lib/python3.11/dist-packages (from langchain-community) (2.0.38)\n",
            "Requirement already satisfied: requests<3,>=2 in /usr/local/lib/python3.11/dist-packages (from langchain-community) (2.32.3)\n",
            "Requirement already satisfied: PyYAML>=5.3 in /usr/local/lib/python3.11/dist-packages (from langchain-community) (6.0.2)\n",
            "Requirement already satisfied: aiohttp<4.0.0,>=3.8.3 in /usr/local/lib/python3.11/dist-packages (from langchain-community) (3.11.13)\n",
            "Requirement already satisfied: tenacity!=8.4.0,<10,>=8.1.0 in /usr/local/lib/python3.11/dist-packages (from langchain-community) (9.0.0)\n",
            "Requirement already satisfied: dataclasses-json<0.7,>=0.5.7 in /usr/local/lib/python3.11/dist-packages (from langchain-community) (0.6.7)\n",
            "Requirement already satisfied: pydantic-settings<3.0.0,>=2.4.0 in /usr/local/lib/python3.11/dist-packages (from langchain-community) (2.8.1)\n",
            "Requirement already satisfied: langsmith<0.4,>=0.1.125 in /usr/local/lib/python3.11/dist-packages (from langchain-community) (0.3.11)\n",
            "Requirement already satisfied: httpx-sse<1.0.0,>=0.4.0 in /usr/local/lib/python3.11/dist-packages (from langchain-community) (0.4.0)\n",
            "Requirement already satisfied: numpy<3,>=1.26.2 in /usr/local/lib/python3.11/dist-packages (from langchain-community) (1.26.4)\n",
            "Requirement already satisfied: aiohappyeyeballs>=2.3.0 in /usr/local/lib/python3.11/dist-packages (from aiohttp<4.0.0,>=3.8.3->langchain-community) (2.5.0)\n",
            "Requirement already satisfied: aiosignal>=1.1.2 in /usr/local/lib/python3.11/dist-packages (from aiohttp<4.0.0,>=3.8.3->langchain-community) (1.3.2)\n",
            "Requirement already satisfied: attrs>=17.3.0 in /usr/local/lib/python3.11/dist-packages (from aiohttp<4.0.0,>=3.8.3->langchain-community) (25.1.0)\n",
            "Requirement already satisfied: frozenlist>=1.1.1 in /usr/local/lib/python3.11/dist-packages (from aiohttp<4.0.0,>=3.8.3->langchain-community) (1.5.0)\n",
            "Requirement already satisfied: multidict<7.0,>=4.5 in /usr/local/lib/python3.11/dist-packages (from aiohttp<4.0.0,>=3.8.3->langchain-community) (6.1.0)\n",
            "Requirement already satisfied: propcache>=0.2.0 in /usr/local/lib/python3.11/dist-packages (from aiohttp<4.0.0,>=3.8.3->langchain-community) (0.3.0)\n",
            "Requirement already satisfied: yarl<2.0,>=1.17.0 in /usr/local/lib/python3.11/dist-packages (from aiohttp<4.0.0,>=3.8.3->langchain-community) (1.18.3)\n",
            "Requirement already satisfied: marshmallow<4.0.0,>=3.18.0 in /usr/local/lib/python3.11/dist-packages (from dataclasses-json<0.7,>=0.5.7->langchain-community) (3.26.1)\n",
            "Requirement already satisfied: typing-inspect<1,>=0.4.0 in /usr/local/lib/python3.11/dist-packages (from dataclasses-json<0.7,>=0.5.7->langchain-community) (0.9.0)\n",
            "Requirement already satisfied: langchain-text-splitters<1.0.0,>=0.3.6 in /usr/local/lib/python3.11/dist-packages (from langchain<1.0.0,>=0.3.20->langchain-community) (0.3.6)\n",
            "Requirement already satisfied: pydantic<3.0.0,>=2.7.4 in /usr/local/lib/python3.11/dist-packages (from langchain<1.0.0,>=0.3.20->langchain-community) (2.10.6)\n",
            "Requirement already satisfied: jsonpatch<2.0,>=1.33 in /usr/local/lib/python3.11/dist-packages (from langchain-core<1.0.0,>=0.3.41->langchain-community) (1.33)\n",
            "Requirement already satisfied: packaging<25,>=23.2 in /usr/local/lib/python3.11/dist-packages (from langchain-core<1.0.0,>=0.3.41->langchain-community) (24.2)\n",
            "Requirement already satisfied: typing-extensions>=4.7 in /usr/local/lib/python3.11/dist-packages (from langchain-core<1.0.0,>=0.3.41->langchain-community) (4.12.2)\n",
            "Requirement already satisfied: httpx<1,>=0.23.0 in /usr/local/lib/python3.11/dist-packages (from langsmith<0.4,>=0.1.125->langchain-community) (0.28.1)\n",
            "Requirement already satisfied: orjson<4.0.0,>=3.9.14 in /usr/local/lib/python3.11/dist-packages (from langsmith<0.4,>=0.1.125->langchain-community) (3.10.15)\n",
            "Requirement already satisfied: requests-toolbelt<2.0.0,>=1.0.0 in /usr/local/lib/python3.11/dist-packages (from langsmith<0.4,>=0.1.125->langchain-community) (1.0.0)\n",
            "Requirement already satisfied: zstandard<0.24.0,>=0.23.0 in /usr/local/lib/python3.11/dist-packages (from langsmith<0.4,>=0.1.125->langchain-community) (0.23.0)\n",
            "Requirement already satisfied: python-dotenv>=0.21.0 in /usr/local/lib/python3.11/dist-packages (from pydantic-settings<3.0.0,>=2.4.0->langchain-community) (1.0.1)\n",
            "Requirement already satisfied: charset-normalizer<4,>=2 in /usr/local/lib/python3.11/dist-packages (from requests<3,>=2->langchain-community) (3.4.1)\n",
            "Requirement already satisfied: idna<4,>=2.5 in /usr/local/lib/python3.11/dist-packages (from requests<3,>=2->langchain-community) (3.10)\n",
            "Requirement already satisfied: urllib3<3,>=1.21.1 in /usr/local/lib/python3.11/dist-packages (from requests<3,>=2->langchain-community) (2.3.0)\n",
            "Requirement already satisfied: certifi>=2017.4.17 in /usr/local/lib/python3.11/dist-packages (from requests<3,>=2->langchain-community) (2025.1.31)\n",
            "Requirement already satisfied: greenlet!=0.4.17 in /usr/local/lib/python3.11/dist-packages (from SQLAlchemy<3,>=1.4->langchain-community) (3.1.1)\n",
            "Requirement already satisfied: anyio in /usr/local/lib/python3.11/dist-packages (from httpx<1,>=0.23.0->langsmith<0.4,>=0.1.125->langchain-community) (3.7.1)\n",
            "Requirement already satisfied: httpcore==1.* in /usr/local/lib/python3.11/dist-packages (from httpx<1,>=0.23.0->langsmith<0.4,>=0.1.125->langchain-community) (1.0.7)\n",
            "Requirement already satisfied: h11<0.15,>=0.13 in /usr/local/lib/python3.11/dist-packages (from httpcore==1.*->httpx<1,>=0.23.0->langsmith<0.4,>=0.1.125->langchain-community) (0.14.0)\n",
            "Requirement already satisfied: jsonpointer>=1.9 in /usr/local/lib/python3.11/dist-packages (from jsonpatch<2.0,>=1.33->langchain-core<1.0.0,>=0.3.41->langchain-community) (3.0.0)\n",
            "Requirement already satisfied: annotated-types>=0.6.0 in /usr/local/lib/python3.11/dist-packages (from pydantic<3.0.0,>=2.7.4->langchain<1.0.0,>=0.3.20->langchain-community) (0.7.0)\n",
            "Requirement already satisfied: pydantic-core==2.27.2 in /usr/local/lib/python3.11/dist-packages (from pydantic<3.0.0,>=2.7.4->langchain<1.0.0,>=0.3.20->langchain-community) (2.27.2)\n",
            "Requirement already satisfied: mypy-extensions>=0.3.0 in /usr/local/lib/python3.11/dist-packages (from typing-inspect<1,>=0.4.0->dataclasses-json<0.7,>=0.5.7->langchain-community) (1.0.0)\n",
            "Requirement already satisfied: sniffio>=1.1 in /usr/local/lib/python3.11/dist-packages (from anyio->httpx<1,>=0.23.0->langsmith<0.4,>=0.1.125->langchain-community) (1.3.1)\n"
          ]
        }
      ]
    },
    {
      "cell_type": "code",
      "execution_count": 81,
      "metadata": {
        "colab": {
          "base_uri": "https://localhost:8080/"
        },
        "collapsed": true,
        "id": "UpABjctjoFss",
        "outputId": "80f58f74-6355-4820-c51a-6a35bec2249e"
      },
      "outputs": [
        {
          "output_type": "stream",
          "name": "stdout",
          "text": [
            "Requirement already satisfied: pandas in /usr/local/lib/python3.11/dist-packages (2.2.2)\n",
            "Requirement already satisfied: chromadb in /usr/local/lib/python3.11/dist-packages (0.6.3)\n",
            "Requirement already satisfied: langchain in /usr/local/lib/python3.11/dist-packages (0.3.20)\n",
            "Requirement already satisfied: openai in /usr/local/lib/python3.11/dist-packages (1.61.1)\n",
            "Requirement already satisfied: numpy>=1.23.2 in /usr/local/lib/python3.11/dist-packages (from pandas) (1.26.4)\n",
            "Requirement already satisfied: python-dateutil>=2.8.2 in /usr/local/lib/python3.11/dist-packages (from pandas) (2.8.2)\n",
            "Requirement already satisfied: pytz>=2020.1 in /usr/local/lib/python3.11/dist-packages (from pandas) (2025.1)\n",
            "Requirement already satisfied: tzdata>=2022.7 in /usr/local/lib/python3.11/dist-packages (from pandas) (2025.1)\n",
            "Requirement already satisfied: build>=1.0.3 in /usr/local/lib/python3.11/dist-packages (from chromadb) (1.2.2.post1)\n",
            "Requirement already satisfied: pydantic>=1.9 in /usr/local/lib/python3.11/dist-packages (from chromadb) (2.10.6)\n",
            "Requirement already satisfied: chroma-hnswlib==0.7.6 in /usr/local/lib/python3.11/dist-packages (from chromadb) (0.7.6)\n",
            "Requirement already satisfied: fastapi>=0.95.2 in /usr/local/lib/python3.11/dist-packages (from chromadb) (0.115.11)\n",
            "Requirement already satisfied: uvicorn>=0.18.3 in /usr/local/lib/python3.11/dist-packages (from uvicorn[standard]>=0.18.3->chromadb) (0.34.0)\n",
            "Requirement already satisfied: posthog>=2.4.0 in /usr/local/lib/python3.11/dist-packages (from chromadb) (3.19.1)\n",
            "Requirement already satisfied: typing_extensions>=4.5.0 in /usr/local/lib/python3.11/dist-packages (from chromadb) (4.12.2)\n",
            "Requirement already satisfied: onnxruntime>=1.14.1 in /usr/local/lib/python3.11/dist-packages (from chromadb) (1.21.0)\n",
            "Requirement already satisfied: opentelemetry-api>=1.2.0 in /usr/local/lib/python3.11/dist-packages (from chromadb) (1.30.0)\n",
            "Requirement already satisfied: opentelemetry-exporter-otlp-proto-grpc>=1.2.0 in /usr/local/lib/python3.11/dist-packages (from chromadb) (1.30.0)\n",
            "Requirement already satisfied: opentelemetry-instrumentation-fastapi>=0.41b0 in /usr/local/lib/python3.11/dist-packages (from chromadb) (0.51b0)\n",
            "Requirement already satisfied: opentelemetry-sdk>=1.2.0 in /usr/local/lib/python3.11/dist-packages (from chromadb) (1.30.0)\n",
            "Requirement already satisfied: tokenizers>=0.13.2 in /usr/local/lib/python3.11/dist-packages (from chromadb) (0.21.0)\n",
            "Requirement already satisfied: pypika>=0.48.9 in /usr/local/lib/python3.11/dist-packages (from chromadb) (0.48.9)\n",
            "Requirement already satisfied: tqdm>=4.65.0 in /usr/local/lib/python3.11/dist-packages (from chromadb) (4.67.1)\n",
            "Requirement already satisfied: overrides>=7.3.1 in /usr/local/lib/python3.11/dist-packages (from chromadb) (7.7.0)\n",
            "Requirement already satisfied: importlib-resources in /usr/local/lib/python3.11/dist-packages (from chromadb) (6.5.2)\n",
            "Requirement already satisfied: grpcio>=1.58.0 in /usr/local/lib/python3.11/dist-packages (from chromadb) (1.70.0)\n",
            "Requirement already satisfied: bcrypt>=4.0.1 in /usr/local/lib/python3.11/dist-packages (from chromadb) (4.3.0)\n",
            "Requirement already satisfied: typer>=0.9.0 in /usr/local/lib/python3.11/dist-packages (from chromadb) (0.15.2)\n",
            "Requirement already satisfied: kubernetes>=28.1.0 in /usr/local/lib/python3.11/dist-packages (from chromadb) (32.0.1)\n",
            "Requirement already satisfied: tenacity>=8.2.3 in /usr/local/lib/python3.11/dist-packages (from chromadb) (9.0.0)\n",
            "Requirement already satisfied: PyYAML>=6.0.0 in /usr/local/lib/python3.11/dist-packages (from chromadb) (6.0.2)\n",
            "Requirement already satisfied: mmh3>=4.0.1 in /usr/local/lib/python3.11/dist-packages (from chromadb) (5.1.0)\n",
            "Requirement already satisfied: orjson>=3.9.12 in /usr/local/lib/python3.11/dist-packages (from chromadb) (3.10.15)\n",
            "Requirement already satisfied: httpx>=0.27.0 in /usr/local/lib/python3.11/dist-packages (from chromadb) (0.28.1)\n",
            "Requirement already satisfied: rich>=10.11.0 in /usr/local/lib/python3.11/dist-packages (from chromadb) (13.9.4)\n",
            "Requirement already satisfied: langchain-core<1.0.0,>=0.3.41 in /usr/local/lib/python3.11/dist-packages (from langchain) (0.3.41)\n",
            "Requirement already satisfied: langchain-text-splitters<1.0.0,>=0.3.6 in /usr/local/lib/python3.11/dist-packages (from langchain) (0.3.6)\n",
            "Requirement already satisfied: langsmith<0.4,>=0.1.17 in /usr/local/lib/python3.11/dist-packages (from langchain) (0.3.11)\n",
            "Requirement already satisfied: SQLAlchemy<3,>=1.4 in /usr/local/lib/python3.11/dist-packages (from langchain) (2.0.38)\n",
            "Requirement already satisfied: requests<3,>=2 in /usr/local/lib/python3.11/dist-packages (from langchain) (2.32.3)\n",
            "Requirement already satisfied: anyio<5,>=3.5.0 in /usr/local/lib/python3.11/dist-packages (from openai) (3.7.1)\n",
            "Requirement already satisfied: distro<2,>=1.7.0 in /usr/local/lib/python3.11/dist-packages (from openai) (1.9.0)\n",
            "Requirement already satisfied: jiter<1,>=0.4.0 in /usr/local/lib/python3.11/dist-packages (from openai) (0.8.2)\n",
            "Requirement already satisfied: sniffio in /usr/local/lib/python3.11/dist-packages (from openai) (1.3.1)\n",
            "Requirement already satisfied: idna>=2.8 in /usr/local/lib/python3.11/dist-packages (from anyio<5,>=3.5.0->openai) (3.10)\n",
            "Requirement already satisfied: packaging>=19.1 in /usr/local/lib/python3.11/dist-packages (from build>=1.0.3->chromadb) (24.2)\n",
            "Requirement already satisfied: pyproject_hooks in /usr/local/lib/python3.11/dist-packages (from build>=1.0.3->chromadb) (1.2.0)\n",
            "Requirement already satisfied: starlette<0.47.0,>=0.40.0 in /usr/local/lib/python3.11/dist-packages (from fastapi>=0.95.2->chromadb) (0.46.1)\n",
            "Requirement already satisfied: certifi in /usr/local/lib/python3.11/dist-packages (from httpx>=0.27.0->chromadb) (2025.1.31)\n",
            "Requirement already satisfied: httpcore==1.* in /usr/local/lib/python3.11/dist-packages (from httpx>=0.27.0->chromadb) (1.0.7)\n",
            "Requirement already satisfied: h11<0.15,>=0.13 in /usr/local/lib/python3.11/dist-packages (from httpcore==1.*->httpx>=0.27.0->chromadb) (0.14.0)\n",
            "Requirement already satisfied: six>=1.9.0 in /usr/local/lib/python3.11/dist-packages (from kubernetes>=28.1.0->chromadb) (1.17.0)\n",
            "Requirement already satisfied: google-auth>=1.0.1 in /usr/local/lib/python3.11/dist-packages (from kubernetes>=28.1.0->chromadb) (2.38.0)\n",
            "Requirement already satisfied: websocket-client!=0.40.0,!=0.41.*,!=0.42.*,>=0.32.0 in /usr/local/lib/python3.11/dist-packages (from kubernetes>=28.1.0->chromadb) (1.8.0)\n",
            "Requirement already satisfied: requests-oauthlib in /usr/local/lib/python3.11/dist-packages (from kubernetes>=28.1.0->chromadb) (2.0.0)\n",
            "Requirement already satisfied: oauthlib>=3.2.2 in /usr/local/lib/python3.11/dist-packages (from kubernetes>=28.1.0->chromadb) (3.2.2)\n",
            "Requirement already satisfied: urllib3>=1.24.2 in /usr/local/lib/python3.11/dist-packages (from kubernetes>=28.1.0->chromadb) (2.3.0)\n",
            "Requirement already satisfied: durationpy>=0.7 in /usr/local/lib/python3.11/dist-packages (from kubernetes>=28.1.0->chromadb) (0.9)\n",
            "Requirement already satisfied: jsonpatch<2.0,>=1.33 in /usr/local/lib/python3.11/dist-packages (from langchain-core<1.0.0,>=0.3.41->langchain) (1.33)\n",
            "Requirement already satisfied: requests-toolbelt<2.0.0,>=1.0.0 in /usr/local/lib/python3.11/dist-packages (from langsmith<0.4,>=0.1.17->langchain) (1.0.0)\n",
            "Requirement already satisfied: zstandard<0.24.0,>=0.23.0 in /usr/local/lib/python3.11/dist-packages (from langsmith<0.4,>=0.1.17->langchain) (0.23.0)\n",
            "Requirement already satisfied: coloredlogs in /usr/local/lib/python3.11/dist-packages (from onnxruntime>=1.14.1->chromadb) (15.0.1)\n",
            "Requirement already satisfied: flatbuffers in /usr/local/lib/python3.11/dist-packages (from onnxruntime>=1.14.1->chromadb) (25.2.10)\n",
            "Requirement already satisfied: protobuf in /usr/local/lib/python3.11/dist-packages (from onnxruntime>=1.14.1->chromadb) (5.29.3)\n",
            "Requirement already satisfied: sympy in /usr/local/lib/python3.11/dist-packages (from onnxruntime>=1.14.1->chromadb) (1.13.1)\n",
            "Requirement already satisfied: deprecated>=1.2.6 in /usr/local/lib/python3.11/dist-packages (from opentelemetry-api>=1.2.0->chromadb) (1.2.18)\n",
            "Requirement already satisfied: importlib-metadata<=8.5.0,>=6.0 in /usr/local/lib/python3.11/dist-packages (from opentelemetry-api>=1.2.0->chromadb) (8.5.0)\n",
            "Requirement already satisfied: googleapis-common-protos~=1.52 in /usr/local/lib/python3.11/dist-packages (from opentelemetry-exporter-otlp-proto-grpc>=1.2.0->chromadb) (1.69.0)\n",
            "Requirement already satisfied: opentelemetry-exporter-otlp-proto-common==1.30.0 in /usr/local/lib/python3.11/dist-packages (from opentelemetry-exporter-otlp-proto-grpc>=1.2.0->chromadb) (1.30.0)\n",
            "Requirement already satisfied: opentelemetry-proto==1.30.0 in /usr/local/lib/python3.11/dist-packages (from opentelemetry-exporter-otlp-proto-grpc>=1.2.0->chromadb) (1.30.0)\n",
            "Requirement already satisfied: opentelemetry-instrumentation-asgi==0.51b0 in /usr/local/lib/python3.11/dist-packages (from opentelemetry-instrumentation-fastapi>=0.41b0->chromadb) (0.51b0)\n",
            "Requirement already satisfied: opentelemetry-instrumentation==0.51b0 in /usr/local/lib/python3.11/dist-packages (from opentelemetry-instrumentation-fastapi>=0.41b0->chromadb) (0.51b0)\n",
            "Requirement already satisfied: opentelemetry-semantic-conventions==0.51b0 in /usr/local/lib/python3.11/dist-packages (from opentelemetry-instrumentation-fastapi>=0.41b0->chromadb) (0.51b0)\n",
            "Requirement already satisfied: opentelemetry-util-http==0.51b0 in /usr/local/lib/python3.11/dist-packages (from opentelemetry-instrumentation-fastapi>=0.41b0->chromadb) (0.51b0)\n",
            "Requirement already satisfied: wrapt<2.0.0,>=1.0.0 in /usr/local/lib/python3.11/dist-packages (from opentelemetry-instrumentation==0.51b0->opentelemetry-instrumentation-fastapi>=0.41b0->chromadb) (1.17.2)\n",
            "Requirement already satisfied: asgiref~=3.0 in /usr/local/lib/python3.11/dist-packages (from opentelemetry-instrumentation-asgi==0.51b0->opentelemetry-instrumentation-fastapi>=0.41b0->chromadb) (3.8.1)\n",
            "Requirement already satisfied: monotonic>=1.5 in /usr/local/lib/python3.11/dist-packages (from posthog>=2.4.0->chromadb) (1.6)\n",
            "Requirement already satisfied: backoff>=1.10.0 in /usr/local/lib/python3.11/dist-packages (from posthog>=2.4.0->chromadb) (2.2.1)\n",
            "Requirement already satisfied: annotated-types>=0.6.0 in /usr/local/lib/python3.11/dist-packages (from pydantic>=1.9->chromadb) (0.7.0)\n",
            "Requirement already satisfied: pydantic-core==2.27.2 in /usr/local/lib/python3.11/dist-packages (from pydantic>=1.9->chromadb) (2.27.2)\n",
            "Requirement already satisfied: charset-normalizer<4,>=2 in /usr/local/lib/python3.11/dist-packages (from requests<3,>=2->langchain) (3.4.1)\n",
            "Requirement already satisfied: markdown-it-py>=2.2.0 in /usr/local/lib/python3.11/dist-packages (from rich>=10.11.0->chromadb) (3.0.0)\n",
            "Requirement already satisfied: pygments<3.0.0,>=2.13.0 in /usr/local/lib/python3.11/dist-packages (from rich>=10.11.0->chromadb) (2.18.0)\n",
            "Requirement already satisfied: greenlet!=0.4.17 in /usr/local/lib/python3.11/dist-packages (from SQLAlchemy<3,>=1.4->langchain) (3.1.1)\n",
            "Requirement already satisfied: huggingface-hub<1.0,>=0.16.4 in /usr/local/lib/python3.11/dist-packages (from tokenizers>=0.13.2->chromadb) (0.28.1)\n",
            "Requirement already satisfied: click>=8.0.0 in /usr/local/lib/python3.11/dist-packages (from typer>=0.9.0->chromadb) (8.1.8)\n",
            "Requirement already satisfied: shellingham>=1.3.0 in /usr/local/lib/python3.11/dist-packages (from typer>=0.9.0->chromadb) (1.5.4)\n",
            "Requirement already satisfied: httptools>=0.6.3 in /usr/local/lib/python3.11/dist-packages (from uvicorn[standard]>=0.18.3->chromadb) (0.6.4)\n",
            "Requirement already satisfied: python-dotenv>=0.13 in /usr/local/lib/python3.11/dist-packages (from uvicorn[standard]>=0.18.3->chromadb) (1.0.1)\n",
            "Requirement already satisfied: uvloop!=0.15.0,!=0.15.1,>=0.14.0 in /usr/local/lib/python3.11/dist-packages (from uvicorn[standard]>=0.18.3->chromadb) (0.21.0)\n",
            "Requirement already satisfied: watchfiles>=0.13 in /usr/local/lib/python3.11/dist-packages (from uvicorn[standard]>=0.18.3->chromadb) (1.0.4)\n",
            "Requirement already satisfied: websockets>=10.4 in /usr/local/lib/python3.11/dist-packages (from uvicorn[standard]>=0.18.3->chromadb) (14.2)\n",
            "Requirement already satisfied: cachetools<6.0,>=2.0.0 in /usr/local/lib/python3.11/dist-packages (from google-auth>=1.0.1->kubernetes>=28.1.0->chromadb) (5.5.2)\n",
            "Requirement already satisfied: pyasn1-modules>=0.2.1 in /usr/local/lib/python3.11/dist-packages (from google-auth>=1.0.1->kubernetes>=28.1.0->chromadb) (0.4.1)\n",
            "Requirement already satisfied: rsa<5,>=3.1.4 in /usr/local/lib/python3.11/dist-packages (from google-auth>=1.0.1->kubernetes>=28.1.0->chromadb) (4.9)\n",
            "Requirement already satisfied: filelock in /usr/local/lib/python3.11/dist-packages (from huggingface-hub<1.0,>=0.16.4->tokenizers>=0.13.2->chromadb) (3.17.0)\n",
            "Requirement already satisfied: fsspec>=2023.5.0 in /usr/local/lib/python3.11/dist-packages (from huggingface-hub<1.0,>=0.16.4->tokenizers>=0.13.2->chromadb) (2024.10.0)\n",
            "Requirement already satisfied: zipp>=3.20 in /usr/local/lib/python3.11/dist-packages (from importlib-metadata<=8.5.0,>=6.0->opentelemetry-api>=1.2.0->chromadb) (3.21.0)\n",
            "Requirement already satisfied: jsonpointer>=1.9 in /usr/local/lib/python3.11/dist-packages (from jsonpatch<2.0,>=1.33->langchain-core<1.0.0,>=0.3.41->langchain) (3.0.0)\n",
            "Requirement already satisfied: mdurl~=0.1 in /usr/local/lib/python3.11/dist-packages (from markdown-it-py>=2.2.0->rich>=10.11.0->chromadb) (0.1.2)\n",
            "Requirement already satisfied: humanfriendly>=9.1 in /usr/local/lib/python3.11/dist-packages (from coloredlogs->onnxruntime>=1.14.1->chromadb) (10.0)\n",
            "Requirement already satisfied: mpmath<1.4,>=1.1.0 in /usr/local/lib/python3.11/dist-packages (from sympy->onnxruntime>=1.14.1->chromadb) (1.3.0)\n",
            "Requirement already satisfied: pyasn1<0.7.0,>=0.4.6 in /usr/local/lib/python3.11/dist-packages (from pyasn1-modules>=0.2.1->google-auth>=1.0.1->kubernetes>=28.1.0->chromadb) (0.6.1)\n"
          ]
        }
      ],
      "source": [
        "!pip install pandas chromadb langchain openai\n"
      ]
    },
    {
      "cell_type": "code",
      "source": [
        "import pandas as pd\n",
        "import chromadb\n",
        "from langchain.embeddings import OpenAIEmbeddings\n",
        "from langchain.vectorstores import Chroma\n",
        "import feedparser\n",
        "\n",
        "from langchain.chat_models import ChatOpenAI\n",
        "from langchain.schema import HumanMessage\n",
        "import gradio as gr\n"
      ],
      "metadata": {
        "id": "Jdv_LGeFoxiz"
      },
      "execution_count": 82,
      "outputs": []
    },
    {
      "cell_type": "code",
      "source": [
        "import os\n",
        "from google.colab import userdata\n",
        "\n",
        "# Recuperar la API Key desde Colab Secrets\n",
        "api_key = userdata.get('quiqueapi')\n",
        "\n",
        "# Asignarla a la variable de entorno que OpenAI necesita\n",
        "os.environ[\"OPENAI_API_KEY\"] = api_key\n",
        "\n",
        "# Verificar que se guardó correctamente\n",
        "print(\"✅ API Key configurada:\", os.getenv(\"OPENAI_API_KEY\") is not None)\n"
      ],
      "metadata": {
        "colab": {
          "base_uri": "https://localhost:8080/"
        },
        "id": "mGkvfrdVql7C",
        "outputId": "b2de6734-a143-493c-9fc8-5519c3a5e350"
      },
      "execution_count": 83,
      "outputs": [
        {
          "output_type": "stream",
          "name": "stdout",
          "text": [
            "✅ API Key configurada: True\n"
          ]
        }
      ]
    },
    {
      "cell_type": "code",
      "source": [
        "# Ruta del archivo CSV en Colab\n",
        "archivo_csv = \"/content/tweets.csv\"  # Ajustá esto si el nombre es distinto\n",
        "\n"
      ],
      "metadata": {
        "id": "J3oPJScppChk"
      },
      "execution_count": 84,
      "outputs": []
    },
    {
      "cell_type": "code",
      "source": [
        "# Cargar el CSV en un DataFrame\n",
        "df = pd.read_csv(archivo_csv)\n",
        "\n"
      ],
      "metadata": {
        "id": "Hu8mvQH8pKvU"
      },
      "execution_count": 85,
      "outputs": []
    },
    {
      "cell_type": "code",
      "source": [
        "# Verificar las primeras filas\n",
        "print(df.head())\n",
        "\n"
      ],
      "metadata": {
        "colab": {
          "base_uri": "https://localhost:8080/"
        },
        "collapsed": true,
        "id": "KILl-AbCpMiE",
        "outputId": "97398a0c-d293-4138-b68a-817400b49dfb"
      },
      "execution_count": 86,
      "outputs": [
        {
          "output_type": "stream",
          "name": "stdout",
          "text": [
            "             tweet_id  in_reply_to_status_id  in_reply_to_user_id  \\\n",
            "0  798914779213500422                    NaN                  NaN   \n",
            "1  798909747357450240                    NaN                  NaN   \n",
            "2  798908490152448001                    NaN                  NaN   \n",
            "3  798907196469870592                    NaN                  NaN   \n",
            "4  798899681472421888                    NaN                  NaN   \n",
            "\n",
            "                   timestamp  \\\n",
            "0  2016-11-16 15:45:01 +0000   \n",
            "1  2016-11-16 15:25:01 +0000   \n",
            "2  2016-11-16 15:20:01 +0000   \n",
            "3  2016-11-16 15:14:53 +0000   \n",
            "4  2016-11-16 14:45:01 +0000   \n",
            "\n",
            "                                              source  \\\n",
            "0  <a href=\"https://about.twitter.com/products/tw...   \n",
            "1  <a href=\"https://about.twitter.com/products/tw...   \n",
            "2  <a href=\"https://about.twitter.com/products/tw...   \n",
            "3  <a href=\"https://about.twitter.com/products/tw...   \n",
            "4  <a href=\"https://about.twitter.com/products/tw...   \n",
            "\n",
            "                                                text  retweeted_status_id  \\\n",
            "0  \"Nothing can break the spirit of the Greek peo...                  NaN   \n",
            "1  \"We've proven that you can grow the economy an...                  NaN   \n",
            "2  \"The basic longing to live with dignity...thes...                  NaN   \n",
            "3  RT @SecBurwell: Over a million people selected...         7.989025e+17   \n",
            "4  \"Democracy...allows us to peacefully work thro...                  NaN   \n",
            "\n",
            "   retweeted_status_user_id retweeted_status_timestamp           expanded_urls  \n",
            "0                       NaN                        NaN  http://snpy.tv/2f3WnrO  \n",
            "1                       NaN                        NaN  http://snpy.tv/2fF7a9R  \n",
            "2                       NaN                        NaN  http://snpy.tv/2f3VOy5  \n",
            "3              2.458567e+09  2016-11-16 14:56:12 +0000                     NaN  \n",
            "4                       NaN                        NaN  http://snpy.tv/2fwHTBp  \n"
          ]
        }
      ]
    },
    {
      "cell_type": "code",
      "source": [
        "# Suponiendo que la columna con los tuits se llama \"tweet\"\n",
        "tuits = df[\"text\"].dropna().tolist()  # Eliminar valores nulos por seguridad\n",
        "\n"
      ],
      "metadata": {
        "id": "8BTq8SZvpeJ_"
      },
      "execution_count": 87,
      "outputs": []
    },
    {
      "cell_type": "code",
      "source": [
        "# Inicializar ChromaDB en memoria (para Colab no necesitamos \"PersistentClient\")\n",
        "chroma_client = chromadb.PersistentClient(path=\"./chroma_db\")\n",
        "\n"
      ],
      "metadata": {
        "id": "dk4PO0kYrRWc"
      },
      "execution_count": 88,
      "outputs": []
    },
    {
      "cell_type": "code",
      "source": [
        "# Crear embeddings con OpenAI (necesitás una API Key de OpenAI)\n",
        "embedding_function = OpenAIEmbeddings(\n",
        "    openai_api_key=api_key,  # Pass the api_key directly here\n",
        "    model=\"text-embedding-ada-002\"\n",
        ")"
      ],
      "metadata": {
        "id": "zav6WG5ZrS3p"
      },
      "execution_count": 89,
      "outputs": []
    },
    {
      "cell_type": "code",
      "source": [
        "\n",
        "# Indexar los tuits en ChromaDB\n",
        "vectorstore = Chroma.from_texts(tuits, embedding_function, collection_name=\"obama_tweets\", client=chroma_client)\n",
        "\n"
      ],
      "metadata": {
        "id": "4sDF8UuFrXjY"
      },
      "execution_count": 90,
      "outputs": []
    },
    {
      "cell_type": "code",
      "source": [
        "# Buscar tuits relevantes para un input\n",
        "#consulta = \"Climate change policy in the United States\"  # Un ejemplo de noticia\n",
        "\n",
        "# Recuperar los 3 tuits más relevantes\n",
        "#resultados = vectorstore.similarity_search(consulta, k=3)\n",
        "\n",
        "#print(\"🔍 Tuits más relevantes sobre el tema:\")\n",
        "#for i, doc in enumerate(resultados):\n",
        " #   print(f\"{i+1}. {doc.page_content}\")\n"
      ],
      "metadata": {
        "id": "jFGL43BMuc3Q"
      },
      "execution_count": 54,
      "outputs": []
    },
    {
      "cell_type": "code",
      "source": [
        "# URL del feed RSS del NYT (se puede cambiar por otra categoría)\n",
        "rss_url = \"https://rss.nytimes.com/services/xml/rss/nyt/World.xml\"\n"
      ],
      "metadata": {
        "id": "Rcrp8y9uvmKD"
      },
      "execution_count": 91,
      "outputs": []
    },
    {
      "cell_type": "code",
      "source": [
        "\n",
        "# Obtener el feed\n",
        "feed = feedparser.parse(rss_url)\n"
      ],
      "metadata": {
        "id": "XYtEKJRnvud1"
      },
      "execution_count": 92,
      "outputs": []
    },
    {
      "cell_type": "code",
      "source": [
        "\n",
        "# Extraer los primeros 5 titulares y resúmenes\n",
        "noticias = []\n",
        "for entry in feed.entries[:5]:  # Tomamos solo las 5 más recientes\n",
        "    titulo = entry.title\n",
        "    resumen = entry.summary\n",
        "    noticias.append({\"titulo\": titulo, \"resumen\": resumen})\n"
      ],
      "metadata": {
        "id": "u0jBQbA3vwFY"
      },
      "execution_count": 93,
      "outputs": []
    },
    {
      "cell_type": "code",
      "source": [
        "\n",
        "# Mostrar noticias\n",
        "for i, noticia in enumerate(noticias):\n",
        "    print(f\"📰 Noticia {i+1}: {noticia['titulo']}\")  # Closing bracket added after 'titulo'\n",
        "    print(f\"   Resumen: {noticia['resumen']}\")  # Print the summary as well"
      ],
      "metadata": {
        "colab": {
          "base_uri": "https://localhost:8080/"
        },
        "id": "seaE8kFRvyWe",
        "outputId": "bb88d608-0209-440b-c3cf-d203a81efadd"
      },
      "execution_count": 94,
      "outputs": [
        {
          "output_type": "stream",
          "name": "stdout",
          "text": [
            "📰 Noticia 1: Ukraine Targets Moscow With Large-Scale Drone Attack\n",
            "   Resumen: The assault, which the mayor called the largest on Russia’s capital since the war began, was a reminder of Ukraine’s power to strike as its president proposes an air truce.\n",
            "📰 Noticia 2: Ukraine and U.S. Talks on War Begin as Gulfs Remain\n",
            "   Resumen: American and Ukrainian representatives are meeting in Saudi Arabia, but the United States, Ukraine and Russia envisage very different paths to peace.\n",
            "📰 Noticia 3: Ramadan in the West Bank: Displacement and Despair\n",
            "   Resumen: An Israeli military operation has uprooted tens of thousands of Palestinians who can’t break their fast in their own homes and don’t know when, or if, they will ever return.\n",
            "📰 Noticia 4: Philippines’ Ex-President Duterte Arrested Under I.C.C. Warrant\n",
            "   Resumen: Rodrigo Duterte, the former Philippine president, was arrested on Tuesday in Manila and was flown to The Hague to face International Criminal Court charges of crimes against humanity.\n",
            "📰 Noticia 5: What Slowdown? Xi Says China Must Win the Global Tech Race.\n",
            "   Resumen: Xi Jinping wants China to surpass rivals as a tech superpower, undeterred by economic woes or trade wars. Critics ask if this focus neglects struggling citizens.\n"
          ]
        }
      ]
    },
    {
      "cell_type": "code",
      "source": [
        "# Buscar tuits relevantes para cada noticia y mostrar resultados\n",
        "for noticia in noticias:\n",
        "    consulta = noticia[\"titulo\"]  # Usamos el título de la noticia como consulta\n",
        "    resultados = vectorstore.similarity_search(consulta, k=3)  # Buscar los 3 tuits más similares\n",
        "\n",
        "    print(f\"🔍 Opinión sobre: {noticia['titulo']}\")\n",
        "    print(f\"📝 Resumen: {noticia['resumen']}\\n\")\n",
        "\n",
        "    print(\"💬 Tuits relevantes:\")\n",
        "    for i, doc in enumerate(resultados):\n",
        "        print(f\"{i+1}. {doc.page_content}\")\n",
        "\n",
        "    print(\"-\" * 50)\n"
      ],
      "metadata": {
        "colab": {
          "base_uri": "https://localhost:8080/"
        },
        "id": "Rufb9DGJwJK2",
        "outputId": "25f65e90-3d5e-45d8-b7ae-b7af2f6f35e5"
      },
      "execution_count": 95,
      "outputs": [
        {
          "output_type": "stream",
          "name": "stdout",
          "text": [
            "🔍 Opinión sobre: Ukraine Targets Moscow With Large-Scale Drone Attack\n",
            "📝 Resumen: The assault, which the mayor called the largest on Russia’s capital since the war began, was a reminder of Ukraine’s power to strike as its president proposes an air truce.\n",
            "\n",
            "💬 Tuits relevantes:\n",
            "1. \"The world is watching reports of a downed passenger jet near the Russia-Ukraine border.\" —President Obama\n",
            "2. \"The world is watching reports of a downed passenger jet near the Russia-Ukraine border.\" —President Obama\n",
            "3. \"This ongoing Russian incursion into Ukraine will only bring more costs and consequences for Russia.\" —President Obama\n",
            "--------------------------------------------------\n",
            "🔍 Opinión sobre: Ukraine and U.S. Talks on War Begin as Gulfs Remain\n",
            "📝 Resumen: American and Ukrainian representatives are meeting in Saudi Arabia, but the United States, Ukraine and Russia envisage very different paths to peace.\n",
            "\n",
            "💬 Tuits relevantes:\n",
            "1. \"We agree on the need to maintain strong sanctions against Russia until it ends its aggression in Ukraine\" —Obama on the U.S. and U.K.\n",
            "2. \"We agree on the need to maintain strong sanctions against Russia until it ends its aggression in Ukraine\" —Obama on the U.S. and U.K.\n",
            "3. \"As both Angela and I have repeatedly said, we want to see a diplomatic resolution to the situation in #Ukraine.\" —President Obama\n",
            "--------------------------------------------------\n",
            "🔍 Opinión sobre: Ramadan in the West Bank: Displacement and Despair\n",
            "📝 Resumen: An Israeli military operation has uprooted tens of thousands of Palestinians who can’t break their fast in their own homes and don’t know when, or if, they will ever return.\n",
            "\n",
            "💬 Tuits relevantes:\n",
            "1. \"The status quo in the West Bank and Gaza is not sustainable. We cannot afford to turn away from this effort.\" —President Obama #UNGA\n",
            "2. \"The status quo in the West Bank and Gaza is not sustainable. We cannot afford to turn away from this effort.\" —President Obama #UNGA\n",
            "3. Meet this Syrian refugee family rebuilding a new life in Ohio: https://t.co/WyV8U51Uoe #RefugeesWelcome https://t.co/4Zpjg4FnnS\n",
            "--------------------------------------------------\n",
            "🔍 Opinión sobre: Philippines’ Ex-President Duterte Arrested Under I.C.C. Warrant\n",
            "📝 Resumen: Rodrigo Duterte, the former Philippine president, was arrested on Tuesday in Manila and was flown to The Hague to face International Criminal Court charges of crimes against humanity.\n",
            "\n",
            "💬 Tuits relevantes:\n",
            "1. Tune in: @POTUS speaks at the #APEC2015 CEO Summit in Manila, Philippines →  https://t.co/90r3O2EVVj\n",
            "2. Tune in: @POTUS speaks at the #APEC2015 CEO Summit in Manila, Philippines →  https://t.co/90r3O2EVVj\n",
            "3. Now: The President in Santiago, Chile. Watch: http://wh.gov/lqO\n",
            "--------------------------------------------------\n",
            "🔍 Opinión sobre: What Slowdown? Xi Says China Must Win the Global Tech Race.\n",
            "📝 Resumen: Xi Jinping wants China to surpass rivals as a tech superpower, undeterred by economic woes or trade wars. Critics ask if this focus neglects struggling citizens.\n",
            "\n",
            "💬 Tuits relevantes:\n",
            "1. Obama on China: “Pursuit of power among nations must no longer be seen as a zero-sum game” Progress must be shared http://bit.ly/15jahJ\n",
            "2. Obama on China: “Pursuit of power among nations must no longer be seen as a zero-sum game” Progress must be shared http://bit.ly/15jahJ\n",
            "3. Obama: \"we can't... let China race ahead to create the clean energy jobs & industries of the future\" http://bit.ly/d4ry4F\n",
            "--------------------------------------------------\n"
          ]
        }
      ]
    },
    {
      "cell_type": "code",
      "source": [
        "# Configurar GPT-4o Mini\n",
        "chat_model = ChatOpenAI(model_name=\"gpt-4o-mini\", temperature=0.7)\n",
        "\n",
        "# Generar opinión basada en los tuits y la noticia\n",
        "for noticia in noticias:\n",
        "    consulta = noticia[\"titulo\"]\n",
        "    resumen = noticia[\"resumen\"]\n",
        "\n",
        "    # Buscar tuits relevantes en ChromaDB\n",
        "    resultados = vectorstore.similarity_search(consulta, k=3)\n",
        "    tuits_relevantes = \"\\n\".join([doc.page_content for doc in resultados])\n",
        "\n",
        "    # Construir el prompt\n",
        "    prompt = f\"\"\"\n",
        "    Basado en la siguiente noticia y en los tuits de Barack Obama, genera una opinión en su estilo:\n",
        "\n",
        "    📰 Noticia: {consulta}\n",
        "    📝 Resumen: {resumen}\n",
        "\n",
        "    📢 Tuits relevantes:\n",
        "    {tuits_relevantes}\n",
        "\n",
        "    Responde como si fueras Barack Obama.\n",
        "    \"\"\"\n",
        "\n",
        "    # Generar respuesta con GPT-4o Mini\n",
        "    respuesta = chat_model.invoke([HumanMessage(content=prompt)])\n",
        "\n",
        "    # Mostrar la opinión generada\n",
        "    print(f\"🗣️ Opinión generada para: {consulta}\")\n",
        "    print(respuesta.content)\n",
        "    print(\"=\" * 80)\n"
      ],
      "metadata": {
        "colab": {
          "base_uri": "https://localhost:8080/"
        },
        "id": "YACcbrXX0rbb",
        "outputId": "6065dd28-ee40-436e-e6d6-8915642d8eb0"
      },
      "execution_count": 107,
      "outputs": [
        {
          "output_type": "stream",
          "name": "stdout",
          "text": [
            "🗣️ Opinión generada para: Ukraine Targets Moscow With Large-Scale Drone Attack\n",
            "La reciente ofensiva de Ucrania sobre Moscú es un recordatorio poderoso de la resiliencia y la determinación del pueblo ucraniano. A medida que enfrentan una agresión injusta, su capacidad para responder demuestra que la lucha por la soberanía y la libertad no se apaga, incluso en los momentos más oscuros. \n",
            "\n",
            "Es vital que continuemos apoyando a Ucrania en su búsqueda de paz y justicia, y que respaldemos los esfuerzos de diálogo y negociación, como la propuesta de un alto el fuego. La comunidad internacional debe estar unida en su condena a la violencia y en la promoción de soluciones pacíficas. \n",
            "\n",
            "Los costos de esta guerra son significativos, no solo para Ucrania, sino también para Rusia y el orden mundial. No podemos permitir que la agresión se normalice. Es hora de que todos los líderes se comprometan a trabajar juntos por un futuro más pacífico y seguro para todos.\n",
            "================================================================================\n",
            "🗣️ Opinión generada para: Ukraine and U.S. Talks on War Begin as Gulfs Remain\n",
            "La búsqueda de la paz en Ucrania es un desafío que requiere un compromiso sincero y una voluntad de diálogo entre todas las partes involucradas. Las conversaciones que se están llevando a cabo en Arabia Saudita son un paso importante, pero debemos reconocer que existen diferencias significativas en las perspectivas de Estados Unidos, Ucrania y Rusia. \n",
            "\n",
            "Es fundamental que continuemos apoyando a Ucrania en su lucha por la soberanía y la integridad territorial. Mantener sanciones firmes contra Rusia es crucial hasta que cesen su agresión. Sin embargo, nunca debemos perder de vista la necesidad de una solución diplomática. Como he dicho antes, el camino hacia la paz debe basarse en el respeto mutuo y la disposición a escuchar y entender las preocupaciones de todos.\n",
            "\n",
            "La historia nos ha enseñado que los conflictos no se resuelven mediante la fuerza, sino a través del diálogo y la diplomacia. Espero que estas conversaciones en curso sean un paso hacia un futuro donde todos podamos convivir en paz y seguridad. Recordemos que juntos, podemos construir un mundo más justo y pacífico.\n",
            "================================================================================\n",
            "🗣️ Opinión generada para: Ramadan in the West Bank: Displacement and Despair\n",
            "La situación en la Franja de Gaza y en la Cisjordania que enfrentan muchos palestinos, especialmente durante el mes sagrado del Ramadán, es profundamente preocupante. Cada día, más familias son desplazadas, y su derecho a vivir con dignidad y esperanza se ve amenazado. No podemos permitir que el sufrimiento de tantos se convierta en una norma aceptada.\n",
            "\n",
            "Debemos recordar que la paz no es solo la ausencia de conflicto; es la presencia de justicia. Es imperativo que todos los líderes en la región y en el mundo trabajen juntos para encontrar soluciones que promuevan la seguridad y los derechos humanos de todos, independientemente de su origen. Como he dicho anteriormente, el status quo en la región no es sostenible. Ignorar esta realidad solo perpetúa el ciclo de dolor y desesperanza.\n",
            "\n",
            "Debemos actuar con valentía y compasión, porque todos merecen un hogar donde puedan romper su ayuno en paz y volver a soñar con un futuro mejor. No podemos desviar la mirada. Debemos unirnos en este esfuerzo. #PazParaTodos\n",
            "================================================================================\n",
            "🗣️ Opinión generada para: Philippines’ Ex-President Duterte Arrested Under I.C.C. Warrant\n",
            "Hoy, al enterarnos de la detención del ex presidente Rodrigo Duterte bajo una orden del Tribunal Penal Internacional, reflexionamos sobre la importancia de la justicia y la rendición de cuentas en todo el mundo. La lucha contra la impunidad es fundamental para construir sociedades más justas y pacíficas.\n",
            "\n",
            "La comunidad internacional tiene un papel crucial en garantizar que se respeten los derechos humanos y se protejan las vidas de los más vulnerables. Este acontecimiento nos recuerda que nadie está por encima de la ley y que todos somos responsables de nuestras acciones. Sigamos trabajando juntos para promover la justicia y la dignidad en cada rincón del planeta. #JusticiaParaTodos #DerechosHumanos\n",
            "================================================================================\n",
            "🗣️ Opinión generada para: What Slowdown? Xi Says China Must Win the Global Tech Race.\n",
            "La ambición de China de convertirse en una superpotencia tecnológica es un reflejo de la competitividad global actual. Sin embargo, es crucial recordar que el verdadero progreso no se mide únicamente en términos de liderazgo tecnológico o económico, sino en cómo esos avances benefician a las personas en el terreno. \n",
            "\n",
            "La búsqueda de poder entre naciones no debe ser vista como un juego de suma cero; debemos aspirar a un mundo donde el progreso se comparta y donde el desarrollo tecnológico se traduzca en mejoras en la calidad de vida de todos los ciudadanos. Ignorar las necesidades de la población en favor de la competencia internacional puede llevar a una desconexión peligrosa entre el liderazgo y la ciudadanía.\n",
            "\n",
            "Es esencial que todos los países, incluidos aquellos que buscan liderar en la tecnología, aborden los desafíos sociales y económicos que enfrentan sus ciudadanos. La verdadera fortaleza de una nación radica en su capacidad para innovar, pero también en su compromiso con el bienestar de su gente. Solo así podremos construir un futuro sostenible y equitativo para todos.\n",
            "================================================================================\n"
          ]
        }
      ]
    },
    {
      "cell_type": "code",
      "source": [
        "!pip install gradio\n"
      ],
      "metadata": {
        "colab": {
          "base_uri": "https://localhost:8080/"
        },
        "id": "GzcbX1Db8s0R",
        "outputId": "8917f58f-3352-464b-b36d-9880d2e4387a"
      },
      "execution_count": 97,
      "outputs": [
        {
          "output_type": "stream",
          "name": "stdout",
          "text": [
            "Requirement already satisfied: gradio in /usr/local/lib/python3.11/dist-packages (5.20.1)\n",
            "Requirement already satisfied: aiofiles<24.0,>=22.0 in /usr/local/lib/python3.11/dist-packages (from gradio) (23.2.1)\n",
            "Requirement already satisfied: anyio<5.0,>=3.0 in /usr/local/lib/python3.11/dist-packages (from gradio) (3.7.1)\n",
            "Requirement already satisfied: fastapi<1.0,>=0.115.2 in /usr/local/lib/python3.11/dist-packages (from gradio) (0.115.11)\n",
            "Requirement already satisfied: ffmpy in /usr/local/lib/python3.11/dist-packages (from gradio) (0.5.0)\n",
            "Requirement already satisfied: gradio-client==1.7.2 in /usr/local/lib/python3.11/dist-packages (from gradio) (1.7.2)\n",
            "Requirement already satisfied: groovy~=0.1 in /usr/local/lib/python3.11/dist-packages (from gradio) (0.1.2)\n",
            "Requirement already satisfied: httpx>=0.24.1 in /usr/local/lib/python3.11/dist-packages (from gradio) (0.28.1)\n",
            "Requirement already satisfied: huggingface-hub>=0.28.1 in /usr/local/lib/python3.11/dist-packages (from gradio) (0.28.1)\n",
            "Requirement already satisfied: jinja2<4.0 in /usr/local/lib/python3.11/dist-packages (from gradio) (3.1.6)\n",
            "Requirement already satisfied: markupsafe~=2.0 in /usr/local/lib/python3.11/dist-packages (from gradio) (2.1.5)\n",
            "Requirement already satisfied: numpy<3.0,>=1.0 in /usr/local/lib/python3.11/dist-packages (from gradio) (1.26.4)\n",
            "Requirement already satisfied: orjson~=3.0 in /usr/local/lib/python3.11/dist-packages (from gradio) (3.10.15)\n",
            "Requirement already satisfied: packaging in /usr/local/lib/python3.11/dist-packages (from gradio) (24.2)\n",
            "Requirement already satisfied: pandas<3.0,>=1.0 in /usr/local/lib/python3.11/dist-packages (from gradio) (2.2.2)\n",
            "Requirement already satisfied: pillow<12.0,>=8.0 in /usr/local/lib/python3.11/dist-packages (from gradio) (11.1.0)\n",
            "Requirement already satisfied: pydantic>=2.0 in /usr/local/lib/python3.11/dist-packages (from gradio) (2.10.6)\n",
            "Requirement already satisfied: pydub in /usr/local/lib/python3.11/dist-packages (from gradio) (0.25.1)\n",
            "Requirement already satisfied: python-multipart>=0.0.18 in /usr/local/lib/python3.11/dist-packages (from gradio) (0.0.20)\n",
            "Requirement already satisfied: pyyaml<7.0,>=5.0 in /usr/local/lib/python3.11/dist-packages (from gradio) (6.0.2)\n",
            "Requirement already satisfied: ruff>=0.9.3 in /usr/local/lib/python3.11/dist-packages (from gradio) (0.9.10)\n",
            "Requirement already satisfied: safehttpx<0.2.0,>=0.1.6 in /usr/local/lib/python3.11/dist-packages (from gradio) (0.1.6)\n",
            "Requirement already satisfied: semantic-version~=2.0 in /usr/local/lib/python3.11/dist-packages (from gradio) (2.10.0)\n",
            "Requirement already satisfied: starlette<1.0,>=0.40.0 in /usr/local/lib/python3.11/dist-packages (from gradio) (0.46.1)\n",
            "Requirement already satisfied: tomlkit<0.14.0,>=0.12.0 in /usr/local/lib/python3.11/dist-packages (from gradio) (0.13.2)\n",
            "Requirement already satisfied: typer<1.0,>=0.12 in /usr/local/lib/python3.11/dist-packages (from gradio) (0.15.2)\n",
            "Requirement already satisfied: typing-extensions~=4.0 in /usr/local/lib/python3.11/dist-packages (from gradio) (4.12.2)\n",
            "Requirement already satisfied: uvicorn>=0.14.0 in /usr/local/lib/python3.11/dist-packages (from gradio) (0.34.0)\n",
            "Requirement already satisfied: fsspec in /usr/local/lib/python3.11/dist-packages (from gradio-client==1.7.2->gradio) (2024.10.0)\n",
            "Requirement already satisfied: websockets<16.0,>=10.0 in /usr/local/lib/python3.11/dist-packages (from gradio-client==1.7.2->gradio) (14.2)\n",
            "Requirement already satisfied: idna>=2.8 in /usr/local/lib/python3.11/dist-packages (from anyio<5.0,>=3.0->gradio) (3.10)\n",
            "Requirement already satisfied: sniffio>=1.1 in /usr/local/lib/python3.11/dist-packages (from anyio<5.0,>=3.0->gradio) (1.3.1)\n",
            "Requirement already satisfied: certifi in /usr/local/lib/python3.11/dist-packages (from httpx>=0.24.1->gradio) (2025.1.31)\n",
            "Requirement already satisfied: httpcore==1.* in /usr/local/lib/python3.11/dist-packages (from httpx>=0.24.1->gradio) (1.0.7)\n",
            "Requirement already satisfied: h11<0.15,>=0.13 in /usr/local/lib/python3.11/dist-packages (from httpcore==1.*->httpx>=0.24.1->gradio) (0.14.0)\n",
            "Requirement already satisfied: filelock in /usr/local/lib/python3.11/dist-packages (from huggingface-hub>=0.28.1->gradio) (3.17.0)\n",
            "Requirement already satisfied: requests in /usr/local/lib/python3.11/dist-packages (from huggingface-hub>=0.28.1->gradio) (2.32.3)\n",
            "Requirement already satisfied: tqdm>=4.42.1 in /usr/local/lib/python3.11/dist-packages (from huggingface-hub>=0.28.1->gradio) (4.67.1)\n",
            "Requirement already satisfied: python-dateutil>=2.8.2 in /usr/local/lib/python3.11/dist-packages (from pandas<3.0,>=1.0->gradio) (2.8.2)\n",
            "Requirement already satisfied: pytz>=2020.1 in /usr/local/lib/python3.11/dist-packages (from pandas<3.0,>=1.0->gradio) (2025.1)\n",
            "Requirement already satisfied: tzdata>=2022.7 in /usr/local/lib/python3.11/dist-packages (from pandas<3.0,>=1.0->gradio) (2025.1)\n",
            "Requirement already satisfied: annotated-types>=0.6.0 in /usr/local/lib/python3.11/dist-packages (from pydantic>=2.0->gradio) (0.7.0)\n",
            "Requirement already satisfied: pydantic-core==2.27.2 in /usr/local/lib/python3.11/dist-packages (from pydantic>=2.0->gradio) (2.27.2)\n",
            "Requirement already satisfied: click>=8.0.0 in /usr/local/lib/python3.11/dist-packages (from typer<1.0,>=0.12->gradio) (8.1.8)\n",
            "Requirement already satisfied: shellingham>=1.3.0 in /usr/local/lib/python3.11/dist-packages (from typer<1.0,>=0.12->gradio) (1.5.4)\n",
            "Requirement already satisfied: rich>=10.11.0 in /usr/local/lib/python3.11/dist-packages (from typer<1.0,>=0.12->gradio) (13.9.4)\n",
            "Requirement already satisfied: six>=1.5 in /usr/local/lib/python3.11/dist-packages (from python-dateutil>=2.8.2->pandas<3.0,>=1.0->gradio) (1.17.0)\n",
            "Requirement already satisfied: markdown-it-py>=2.2.0 in /usr/local/lib/python3.11/dist-packages (from rich>=10.11.0->typer<1.0,>=0.12->gradio) (3.0.0)\n",
            "Requirement already satisfied: pygments<3.0.0,>=2.13.0 in /usr/local/lib/python3.11/dist-packages (from rich>=10.11.0->typer<1.0,>=0.12->gradio) (2.18.0)\n",
            "Requirement already satisfied: charset-normalizer<4,>=2 in /usr/local/lib/python3.11/dist-packages (from requests->huggingface-hub>=0.28.1->gradio) (3.4.1)\n",
            "Requirement already satisfied: urllib3<3,>=1.21.1 in /usr/local/lib/python3.11/dist-packages (from requests->huggingface-hub>=0.28.1->gradio) (2.3.0)\n",
            "Requirement already satisfied: mdurl~=0.1 in /usr/local/lib/python3.11/dist-packages (from markdown-it-py>=2.2.0->rich>=10.11.0->typer<1.0,>=0.12->gradio) (0.1.2)\n"
          ]
        }
      ]
    },
    {
      "cell_type": "code",
      "source": [
        "# Función para obtener noticias y generar opiniones\n",
        "def generar_opiniones():\n",
        "    # Obtener noticias del NYT\n",
        "    rss_url = \"https://rss.nytimes.com/services/xml/rss/nyt/World.xml\"\n",
        "    feed = feedparser.parse(rss_url)\n",
        "    noticias = feed.entries[:5]  # Obtener 5 noticias más recientes\n",
        "\n",
        "    resultados = []\n",
        "    for noticia in noticias:\n",
        "        consulta = noticia[\"title\"]\n",
        "        resumen = noticia[\"summary\"]\n",
        "\n",
        "        # Buscar tuits relevantes en ChromaDB\n",
        "        resultados_tuits = vectorstore.similarity_search(consulta, k=3)\n",
        "        tuits_relevantes = \"\\n\".join([doc.page_content for doc in resultados_tuits])\n",
        "\n",
        "        # Construir el prompt\n",
        "        prompt = f\"\"\"\n",
        "        Basado en la siguiente noticia y en los tuits de Barack Obama, genera una opinión en su estilo:\n",
        "\n",
        "        📰 Noticia: {consulta}\n",
        "        📝 Resumen: {resumen}\n",
        "\n",
        "        📢 Tuits relevantes:\n",
        "        {tuits_relevantes}\n",
        "\n",
        "        Responde como si fueras Barack Obama.\n",
        "        \"\"\"\n",
        "\n",
        "        # Generar respuesta con GPT-4o Mini\n",
        "        respuesta = chat_model.invoke([HumanMessage(content=prompt)])\n",
        "\n",
        "        resultados.append(f\"🗞️ {consulta}\\n📢 Opinión de Obama Tweet Agent:\\n{respuesta.content}\\n\" + \"=\"*80)\n",
        "\n",
        "    return \"\\n\\n\".join(resultados)\n",
        "\n",
        "# Crear la interfaz con Gradio\n",
        "interface = gr.Interface(\n",
        "    fn=generar_opiniones,  # Ejecuta la función cuando se presiona el botón\n",
        "    inputs=[],\n",
        "    outputs=gr.Textbox(label=\"Opiniones Generadas\", lines=20),\n",
        "    title=\"📰 Obama Tweet Agent\",\n",
        "    description=\"Este agente IA analiza noticias del New York Times y genera opiniones basadas en los tuits del presidente Barack Obama entre 2009-2017. Fuente tweets: https://www.obamalibrary.gov/\"\n",
        ")\n"
      ],
      "metadata": {
        "id": "Hyiwd58SAJpk"
      },
      "execution_count": 111,
      "outputs": []
    },
    {
      "cell_type": "code",
      "source": [
        "# Ejecutar la app\n",
        "interface.launch()"
      ],
      "metadata": {
        "colab": {
          "base_uri": "https://localhost:8080/",
          "height": 646
        },
        "id": "TPlTIfkLANHs",
        "outputId": "1c743c6f-bb3a-45cc-eaee-98f1e3c2b3c7"
      },
      "execution_count": 112,
      "outputs": [
        {
          "output_type": "stream",
          "name": "stdout",
          "text": [
            "Running Gradio in a Colab notebook requires sharing enabled. Automatically setting `share=True` (you can turn this off by setting `share=False` in `launch()` explicitly).\n",
            "\n",
            "Colab notebook detected. To show errors in colab notebook, set debug=True in launch()\n",
            "* Running on public URL: https://42b8e0348e60d067e2.gradio.live\n",
            "\n",
            "This share link expires in 72 hours. For free permanent hosting and GPU upgrades, run `gradio deploy` from the terminal in the working directory to deploy to Hugging Face Spaces (https://huggingface.co/spaces)\n"
          ]
        },
        {
          "output_type": "display_data",
          "data": {
            "text/plain": [
              "<IPython.core.display.HTML object>"
            ],
            "text/html": [
              "<div><iframe src=\"https://42b8e0348e60d067e2.gradio.live\" width=\"100%\" height=\"500\" allow=\"autoplay; camera; microphone; clipboard-read; clipboard-write;\" frameborder=\"0\" allowfullscreen></iframe></div>"
            ]
          },
          "metadata": {}
        },
        {
          "output_type": "execute_result",
          "data": {
            "text/plain": []
          },
          "metadata": {},
          "execution_count": 112
        }
      ]
    }
  ]
}